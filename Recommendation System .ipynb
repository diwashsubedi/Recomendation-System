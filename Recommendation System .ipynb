{
 "cells": [
  {
   "cell_type": "markdown",
   "metadata": {},
   "source": [
    "# Using Apyori Algorithm"
   ]
  },
  {
   "cell_type": "code",
   "execution_count": 30,
   "metadata": {},
   "outputs": [],
   "source": [
    "import numpy as np\n",
    "import matplotlib.pyplot as plt\n",
    "import pandas as pd\n",
    "from apyori import apriori"
   ]
  },
  {
   "cell_type": "code",
   "execution_count": 33,
   "metadata": {},
   "outputs": [],
   "source": [
    "trans_data =  pd.read_csv('food.csv')"
   ]
  },
  {
   "cell_type": "code",
   "execution_count": 34,
   "metadata": {},
   "outputs": [
    {
     "data": {
      "text/html": [
       "<div>\n",
       "<style scoped>\n",
       "    .dataframe tbody tr th:only-of-type {\n",
       "        vertical-align: middle;\n",
       "    }\n",
       "\n",
       "    .dataframe tbody tr th {\n",
       "        vertical-align: top;\n",
       "    }\n",
       "\n",
       "    .dataframe thead th {\n",
       "        text-align: right;\n",
       "    }\n",
       "</style>\n",
       "<table border=\"1\" class=\"dataframe\">\n",
       "  <thead>\n",
       "    <tr style=\"text-align: right;\">\n",
       "      <th></th>\n",
       "      <th>0</th>\n",
       "      <th>1</th>\n",
       "      <th>2</th>\n",
       "      <th>3</th>\n",
       "      <th>4</th>\n",
       "    </tr>\n",
       "  </thead>\n",
       "  <tbody>\n",
       "    <tr>\n",
       "      <th>0</th>\n",
       "      <td>1</td>\n",
       "      <td>momo</td>\n",
       "      <td>burger</td>\n",
       "      <td>pizza</td>\n",
       "      <td>NaN</td>\n",
       "    </tr>\n",
       "    <tr>\n",
       "      <th>1</th>\n",
       "      <td>2</td>\n",
       "      <td>burger</td>\n",
       "      <td>coke</td>\n",
       "      <td>NaN</td>\n",
       "      <td>NaN</td>\n",
       "    </tr>\n",
       "    <tr>\n",
       "      <th>2</th>\n",
       "      <td>3</td>\n",
       "      <td>momo</td>\n",
       "      <td>pizza</td>\n",
       "      <td>coke</td>\n",
       "      <td>chowmine</td>\n",
       "    </tr>\n",
       "    <tr>\n",
       "      <th>3</th>\n",
       "      <td>4</td>\n",
       "      <td>burger</td>\n",
       "      <td>fench fry</td>\n",
       "      <td>coke</td>\n",
       "      <td>NaN</td>\n",
       "    </tr>\n",
       "  </tbody>\n",
       "</table>\n",
       "</div>"
      ],
      "text/plain": [
       "   0       1          2      3         4\n",
       "0  1    momo     burger  pizza       NaN\n",
       "1  2  burger       coke    NaN       NaN\n",
       "2  3    momo      pizza   coke  chowmine\n",
       "3  4  burger  fench fry   coke       NaN"
      ]
     },
     "execution_count": 34,
     "metadata": {},
     "output_type": "execute_result"
    }
   ],
   "source": [
    "trans_data.head()"
   ]
  },
  {
   "cell_type": "code",
   "execution_count": 35,
   "metadata": {},
   "outputs": [
    {
     "data": {
      "text/plain": [
       "(4, 5)"
      ]
     },
     "execution_count": 35,
     "metadata": {},
     "output_type": "execute_result"
    }
   ],
   "source": [
    "trans_data.shape"
   ]
  },
  {
   "cell_type": "code",
   "execution_count": 36,
   "metadata": {},
   "outputs": [
    {
     "data": {
      "text/html": [
       "<div>\n",
       "<style scoped>\n",
       "    .dataframe tbody tr th:only-of-type {\n",
       "        vertical-align: middle;\n",
       "    }\n",
       "\n",
       "    .dataframe tbody tr th {\n",
       "        vertical-align: top;\n",
       "    }\n",
       "\n",
       "    .dataframe thead th {\n",
       "        text-align: right;\n",
       "    }\n",
       "</style>\n",
       "<table border=\"1\" class=\"dataframe\">\n",
       "  <thead>\n",
       "    <tr style=\"text-align: right;\">\n",
       "      <th></th>\n",
       "      <th>0</th>\n",
       "      <th>1</th>\n",
       "      <th>2</th>\n",
       "      <th>3</th>\n",
       "      <th>4</th>\n",
       "    </tr>\n",
       "  </thead>\n",
       "  <tbody>\n",
       "    <tr>\n",
       "      <th>0</th>\n",
       "      <td>1</td>\n",
       "      <td>momo</td>\n",
       "      <td>burger</td>\n",
       "      <td>pizza</td>\n",
       "      <td>NaN</td>\n",
       "    </tr>\n",
       "    <tr>\n",
       "      <th>1</th>\n",
       "      <td>2</td>\n",
       "      <td>burger</td>\n",
       "      <td>coke</td>\n",
       "      <td>NaN</td>\n",
       "      <td>NaN</td>\n",
       "    </tr>\n",
       "    <tr>\n",
       "      <th>2</th>\n",
       "      <td>3</td>\n",
       "      <td>momo</td>\n",
       "      <td>pizza</td>\n",
       "      <td>coke</td>\n",
       "      <td>chowmine</td>\n",
       "    </tr>\n",
       "    <tr>\n",
       "      <th>3</th>\n",
       "      <td>4</td>\n",
       "      <td>burger</td>\n",
       "      <td>fench fry</td>\n",
       "      <td>coke</td>\n",
       "      <td>NaN</td>\n",
       "    </tr>\n",
       "  </tbody>\n",
       "</table>\n",
       "</div>"
      ],
      "text/plain": [
       "   0       1          2      3         4\n",
       "0  1    momo     burger  pizza       NaN\n",
       "1  2  burger       coke    NaN       NaN\n",
       "2  3    momo      pizza   coke  chowmine\n",
       "3  4  burger  fench fry   coke       NaN"
      ]
     },
     "execution_count": 36,
     "metadata": {},
     "output_type": "execute_result"
    }
   ],
   "source": [
    "trans_data"
   ]
  },
  {
   "cell_type": "code",
   "execution_count": 37,
   "metadata": {},
   "outputs": [],
   "source": [
    "records = []\n",
    "for i in range(0,4):\n",
    "    records.append([str(trans_data.values[i,j]) for j in range(0,5)])"
   ]
  },
  {
   "cell_type": "code",
   "execution_count": 46,
   "metadata": {},
   "outputs": [
    {
     "data": {
      "text/plain": [
       "[['1', 'momo', 'burger', 'pizza', 'nan'],\n",
       " ['2', 'burger', 'coke', 'nan', 'nan'],\n",
       " ['3', 'momo', 'pizza', 'coke', 'chowmine'],\n",
       " ['4', 'burger', 'fench fry', 'coke', 'nan']]"
      ]
     },
     "execution_count": 46,
     "metadata": {},
     "output_type": "execute_result"
    }
   ],
   "source": [
    "records"
   ]
  },
  {
   "cell_type": "code",
   "execution_count": 47,
   "metadata": {},
   "outputs": [],
   "source": [
    "#min_length is 3 since we want at least two products in our rules.\n",
    "#support for this data can be calculated as ( min num of times product purchased in a day * 7 ) / (num of transactions in a week )\n",
    "#support = ( 6 * 7 ) / 7500 = 0.0056\n",
    "#The confidence for the rules is 60% or 0.6.\n",
    "\n",
    "association_rules = apriori(records,min_support = 0.0050, min_confidence = 0.6, min_lift=3, min_length=3)\n",
    "association_results = list(association_rules)"
   ]
  },
  {
   "cell_type": "code",
   "execution_count": 48,
   "metadata": {},
   "outputs": [
    {
     "data": {
      "text/plain": [
       "<generator object apriori at 0x7efeef0bceb8>"
      ]
     },
     "execution_count": 48,
     "metadata": {},
     "output_type": "execute_result"
    }
   ],
   "source": [
    "association_rules"
   ]
  },
  {
   "cell_type": "code",
   "execution_count": 42,
   "metadata": {},
   "outputs": [
    {
     "data": {
      "text/plain": [
       "[RelationRecord(items=frozenset({'3', 'chowmine'}), support=0.25, ordered_statistics=[OrderedStatistic(items_base=frozenset({'3'}), items_add=frozenset({'chowmine'}), confidence=1.0, lift=4.0), OrderedStatistic(items_base=frozenset({'chowmine'}), items_add=frozenset({'3'}), confidence=1.0, lift=4.0)]),\n",
       " RelationRecord(items=frozenset({'fench fry', '4'}), support=0.25, ordered_statistics=[OrderedStatistic(items_base=frozenset({'4'}), items_add=frozenset({'fench fry'}), confidence=1.0, lift=4.0), OrderedStatistic(items_base=frozenset({'fench fry'}), items_add=frozenset({'4'}), confidence=1.0, lift=4.0)]),\n",
       " RelationRecord(items=frozenset({'momo', 'burger', '1'}), support=0.25, ordered_statistics=[OrderedStatistic(items_base=frozenset({'momo', 'burger'}), items_add=frozenset({'1'}), confidence=1.0, lift=4.0)]),\n",
       " RelationRecord(items=frozenset({'pizza', 'burger', '1'}), support=0.25, ordered_statistics=[OrderedStatistic(items_base=frozenset({'pizza', 'burger'}), items_add=frozenset({'1'}), confidence=1.0, lift=4.0)]),\n",
       " RelationRecord(items=frozenset({'momo', 'nan', '1'}), support=0.25, ordered_statistics=[OrderedStatistic(items_base=frozenset({'momo', 'nan'}), items_add=frozenset({'1'}), confidence=1.0, lift=4.0)]),\n",
       " RelationRecord(items=frozenset({'pizza', 'nan', '1'}), support=0.25, ordered_statistics=[OrderedStatistic(items_base=frozenset({'pizza', 'nan'}), items_add=frozenset({'1'}), confidence=1.0, lift=4.0)]),\n",
       " RelationRecord(items=frozenset({'3', 'chowmine', 'coke'}), support=0.25, ordered_statistics=[OrderedStatistic(items_base=frozenset({'3', 'coke'}), items_add=frozenset({'chowmine'}), confidence=1.0, lift=4.0), OrderedStatistic(items_base=frozenset({'chowmine', 'coke'}), items_add=frozenset({'3'}), confidence=1.0, lift=4.0)]),\n",
       " RelationRecord(items=frozenset({'3', 'chowmine', 'momo'}), support=0.25, ordered_statistics=[OrderedStatistic(items_base=frozenset({'3', 'momo'}), items_add=frozenset({'chowmine'}), confidence=1.0, lift=4.0), OrderedStatistic(items_base=frozenset({'chowmine', 'momo'}), items_add=frozenset({'3'}), confidence=1.0, lift=4.0)]),\n",
       " RelationRecord(items=frozenset({'pizza', '3', 'chowmine'}), support=0.25, ordered_statistics=[OrderedStatistic(items_base=frozenset({'pizza', '3'}), items_add=frozenset({'chowmine'}), confidence=1.0, lift=4.0), OrderedStatistic(items_base=frozenset({'pizza', 'chowmine'}), items_add=frozenset({'3'}), confidence=1.0, lift=4.0)]),\n",
       " RelationRecord(items=frozenset({'3', 'coke', 'momo'}), support=0.25, ordered_statistics=[OrderedStatistic(items_base=frozenset({'momo', 'coke'}), items_add=frozenset({'3'}), confidence=1.0, lift=4.0)]),\n",
       " RelationRecord(items=frozenset({'pizza', '3', 'coke'}), support=0.25, ordered_statistics=[OrderedStatistic(items_base=frozenset({'pizza', 'coke'}), items_add=frozenset({'3'}), confidence=1.0, lift=4.0)]),\n",
       " RelationRecord(items=frozenset({'burger', 'fench fry', '4'}), support=0.25, ordered_statistics=[OrderedStatistic(items_base=frozenset({'burger', '4'}), items_add=frozenset({'fench fry'}), confidence=1.0, lift=4.0), OrderedStatistic(items_base=frozenset({'burger', 'fench fry'}), items_add=frozenset({'4'}), confidence=1.0, lift=4.0)]),\n",
       " RelationRecord(items=frozenset({'coke', 'fench fry', '4'}), support=0.25, ordered_statistics=[OrderedStatistic(items_base=frozenset({'coke', '4'}), items_add=frozenset({'fench fry'}), confidence=1.0, lift=4.0), OrderedStatistic(items_base=frozenset({'coke', 'fench fry'}), items_add=frozenset({'4'}), confidence=1.0, lift=4.0)]),\n",
       " RelationRecord(items=frozenset({'nan', 'fench fry', '4'}), support=0.25, ordered_statistics=[OrderedStatistic(items_base=frozenset({'nan', '4'}), items_add=frozenset({'fench fry'}), confidence=1.0, lift=4.0), OrderedStatistic(items_base=frozenset({'nan', 'fench fry'}), items_add=frozenset({'4'}), confidence=1.0, lift=4.0)]),\n",
       " RelationRecord(items=frozenset({'chowmine', 'coke', 'momo'}), support=0.25, ordered_statistics=[OrderedStatistic(items_base=frozenset({'momo', 'coke'}), items_add=frozenset({'chowmine'}), confidence=1.0, lift=4.0)]),\n",
       " RelationRecord(items=frozenset({'pizza', 'chowmine', 'coke'}), support=0.25, ordered_statistics=[OrderedStatistic(items_base=frozenset({'pizza', 'coke'}), items_add=frozenset({'chowmine'}), confidence=1.0, lift=4.0)]),\n",
       " RelationRecord(items=frozenset({'momo', 'nan', 'burger', '1'}), support=0.25, ordered_statistics=[OrderedStatistic(items_base=frozenset({'momo', 'nan', 'burger'}), items_add=frozenset({'1'}), confidence=1.0, lift=4.0)]),\n",
       " RelationRecord(items=frozenset({'pizza', 'momo', 'burger', '1'}), support=0.25, ordered_statistics=[OrderedStatistic(items_base=frozenset({'pizza', 'momo', 'burger'}), items_add=frozenset({'1'}), confidence=1.0, lift=4.0)]),\n",
       " RelationRecord(items=frozenset({'pizza', 'nan', 'burger', '1'}), support=0.25, ordered_statistics=[OrderedStatistic(items_base=frozenset({'pizza', 'nan', 'burger'}), items_add=frozenset({'1'}), confidence=1.0, lift=4.0)]),\n",
       " RelationRecord(items=frozenset({'pizza', 'momo', 'nan', '1'}), support=0.25, ordered_statistics=[OrderedStatistic(items_base=frozenset({'pizza', 'momo', 'nan'}), items_add=frozenset({'1'}), confidence=1.0, lift=4.0)]),\n",
       " RelationRecord(items=frozenset({'3', 'chowmine', 'coke', 'momo'}), support=0.25, ordered_statistics=[OrderedStatistic(items_base=frozenset({'3', 'coke', 'momo'}), items_add=frozenset({'chowmine'}), confidence=1.0, lift=4.0), OrderedStatistic(items_base=frozenset({'chowmine', 'coke', 'momo'}), items_add=frozenset({'3'}), confidence=1.0, lift=4.0)]),\n",
       " RelationRecord(items=frozenset({'pizza', '3', 'chowmine', 'coke'}), support=0.25, ordered_statistics=[OrderedStatistic(items_base=frozenset({'pizza', '3', 'coke'}), items_add=frozenset({'chowmine'}), confidence=1.0, lift=4.0), OrderedStatistic(items_base=frozenset({'pizza', 'chowmine', 'coke'}), items_add=frozenset({'3'}), confidence=1.0, lift=4.0)]),\n",
       " RelationRecord(items=frozenset({'pizza', '3', 'chowmine', 'momo'}), support=0.25, ordered_statistics=[OrderedStatistic(items_base=frozenset({'pizza', '3', 'momo'}), items_add=frozenset({'chowmine'}), confidence=1.0, lift=4.0), OrderedStatistic(items_base=frozenset({'pizza', 'chowmine', 'momo'}), items_add=frozenset({'3'}), confidence=1.0, lift=4.0)]),\n",
       " RelationRecord(items=frozenset({'pizza', '3', 'coke', 'momo'}), support=0.25, ordered_statistics=[OrderedStatistic(items_base=frozenset({'pizza', 'momo', 'coke'}), items_add=frozenset({'3'}), confidence=1.0, lift=4.0)]),\n",
       " RelationRecord(items=frozenset({'coke', 'burger', 'fench fry', '4'}), support=0.25, ordered_statistics=[OrderedStatistic(items_base=frozenset({'coke', 'burger', '4'}), items_add=frozenset({'fench fry'}), confidence=1.0, lift=4.0), OrderedStatistic(items_base=frozenset({'coke', 'burger', 'fench fry'}), items_add=frozenset({'4'}), confidence=1.0, lift=4.0)]),\n",
       " RelationRecord(items=frozenset({'nan', 'burger', 'fench fry', '4'}), support=0.25, ordered_statistics=[OrderedStatistic(items_base=frozenset({'nan', 'burger', '4'}), items_add=frozenset({'fench fry'}), confidence=1.0, lift=4.0), OrderedStatistic(items_base=frozenset({'nan', 'burger', 'fench fry'}), items_add=frozenset({'4'}), confidence=1.0, lift=4.0)]),\n",
       " RelationRecord(items=frozenset({'coke', 'nan', 'fench fry', '4'}), support=0.25, ordered_statistics=[OrderedStatistic(items_base=frozenset({'coke', 'nan', '4'}), items_add=frozenset({'fench fry'}), confidence=1.0, lift=4.0), OrderedStatistic(items_base=frozenset({'coke', 'nan', 'fench fry'}), items_add=frozenset({'4'}), confidence=1.0, lift=4.0)]),\n",
       " RelationRecord(items=frozenset({'pizza', 'chowmine', 'coke', 'momo'}), support=0.25, ordered_statistics=[OrderedStatistic(items_base=frozenset({'pizza', 'momo', 'coke'}), items_add=frozenset({'chowmine'}), confidence=1.0, lift=4.0)]),\n",
       " RelationRecord(items=frozenset({'pizza', 'momo', 'burger', 'nan', '1'}), support=0.25, ordered_statistics=[OrderedStatistic(items_base=frozenset({'pizza', 'momo', 'nan', 'burger'}), items_add=frozenset({'1'}), confidence=1.0, lift=4.0)]),\n",
       " RelationRecord(items=frozenset({'pizza', '3', 'momo', 'chowmine', 'coke'}), support=0.25, ordered_statistics=[OrderedStatistic(items_base=frozenset({'pizza', '3', 'coke', 'momo'}), items_add=frozenset({'chowmine'}), confidence=1.0, lift=4.0), OrderedStatistic(items_base=frozenset({'pizza', 'chowmine', 'coke', 'momo'}), items_add=frozenset({'3'}), confidence=1.0, lift=4.0)]),\n",
       " RelationRecord(items=frozenset({'burger', 'coke', '4', 'nan', 'fench fry'}), support=0.25, ordered_statistics=[OrderedStatistic(items_base=frozenset({'coke', 'nan', 'burger', '4'}), items_add=frozenset({'fench fry'}), confidence=1.0, lift=4.0), OrderedStatistic(items_base=frozenset({'coke', 'nan', 'burger', 'fench fry'}), items_add=frozenset({'4'}), confidence=1.0, lift=4.0)])]"
      ]
     },
     "execution_count": 42,
     "metadata": {},
     "output_type": "execute_result"
    }
   ],
   "source": [
    "association_results"
   ]
  },
  {
   "cell_type": "code",
   "execution_count": 49,
   "metadata": {},
   "outputs": [
    {
     "name": "stdout",
     "output_type": "stream",
     "text": [
      "31\n"
     ]
    }
   ],
   "source": [
    "print(len(association_results))"
   ]
  },
  {
   "cell_type": "code",
   "execution_count": 50,
   "metadata": {},
   "outputs": [
    {
     "data": {
      "text/plain": [
       "RelationRecord(items=frozenset({'3', 'chowmine'}), support=0.25, ordered_statistics=[OrderedStatistic(items_base=frozenset({'3'}), items_add=frozenset({'chowmine'}), confidence=1.0, lift=4.0), OrderedStatistic(items_base=frozenset({'chowmine'}), items_add=frozenset({'3'}), confidence=1.0, lift=4.0)])"
      ]
     },
     "execution_count": 50,
     "metadata": {},
     "output_type": "execute_result"
    }
   ],
   "source": [
    "association_results[0]"
   ]
  },
  {
   "cell_type": "code",
   "execution_count": null,
   "metadata": {},
   "outputs": [],
   "source": []
  }
 ],
 "metadata": {
  "kernelspec": {
   "display_name": "Python 3",
   "language": "python",
   "name": "python3"
  },
  "language_info": {
   "codemirror_mode": {
    "name": "ipython",
    "version": 3
   },
   "file_extension": ".py",
   "mimetype": "text/x-python",
   "name": "python",
   "nbconvert_exporter": "python",
   "pygments_lexer": "ipython3",
   "version": "3.6.5"
  }
 },
 "nbformat": 4,
 "nbformat_minor": 2
}
