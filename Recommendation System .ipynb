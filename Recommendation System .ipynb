{
 "cells": [
  {
   "cell_type": "markdown",
   "metadata": {},
   "source": [
    "# Using Apyori Algorithm"
   ]
  },
  {
   "cell_type": "code",
   "execution_count": 1,
   "metadata": {},
   "outputs": [],
   "source": [
    "import numpy as np\n",
    "import matplotlib.pyplot as plt\n",
    "import pandas as pd\n",
    "from apyori import apriori"
   ]
  },
  {
   "cell_type": "code",
   "execution_count": 9,
   "metadata": {},
   "outputs": [],
   "source": [
    "trans_data =  pd.read_csv('food.csv' , header=None)"
   ]
  },
  {
   "cell_type": "code",
   "execution_count": 10,
   "metadata": {},
   "outputs": [
    {
     "data": {
      "text/html": [
       "<div>\n",
       "<style scoped>\n",
       "    .dataframe tbody tr th:only-of-type {\n",
       "        vertical-align: middle;\n",
       "    }\n",
       "\n",
       "    .dataframe tbody tr th {\n",
       "        vertical-align: top;\n",
       "    }\n",
       "\n",
       "    .dataframe thead th {\n",
       "        text-align: right;\n",
       "    }\n",
       "</style>\n",
       "<table border=\"1\" class=\"dataframe\">\n",
       "  <thead>\n",
       "    <tr style=\"text-align: right;\">\n",
       "      <th></th>\n",
       "      <th>0</th>\n",
       "      <th>1</th>\n",
       "      <th>2</th>\n",
       "      <th>3</th>\n",
       "      <th>4</th>\n",
       "      <th>5</th>\n",
       "      <th>6</th>\n",
       "    </tr>\n",
       "  </thead>\n",
       "  <tbody>\n",
       "    <tr>\n",
       "      <th>0</th>\n",
       "      <td>0</td>\n",
       "      <td>1</td>\n",
       "      <td>2</td>\n",
       "      <td>3</td>\n",
       "      <td>4</td>\n",
       "      <td>5.0</td>\n",
       "      <td>6.0</td>\n",
       "    </tr>\n",
       "    <tr>\n",
       "      <th>1</th>\n",
       "      <td>1</td>\n",
       "      <td>momo</td>\n",
       "      <td>burger</td>\n",
       "      <td>pizza</td>\n",
       "      <td>NaN</td>\n",
       "      <td>NaN</td>\n",
       "      <td>NaN</td>\n",
       "    </tr>\n",
       "    <tr>\n",
       "      <th>2</th>\n",
       "      <td>2</td>\n",
       "      <td>burger</td>\n",
       "      <td>coke</td>\n",
       "      <td>NaN</td>\n",
       "      <td>NaN</td>\n",
       "      <td>NaN</td>\n",
       "      <td>NaN</td>\n",
       "    </tr>\n",
       "    <tr>\n",
       "      <th>3</th>\n",
       "      <td>3</td>\n",
       "      <td>momo</td>\n",
       "      <td>pizza</td>\n",
       "      <td>coke</td>\n",
       "      <td>chowmine</td>\n",
       "      <td>NaN</td>\n",
       "      <td>NaN</td>\n",
       "    </tr>\n",
       "    <tr>\n",
       "      <th>4</th>\n",
       "      <td>4</td>\n",
       "      <td>burger</td>\n",
       "      <td>fench fry</td>\n",
       "      <td>coke</td>\n",
       "      <td>NaN</td>\n",
       "      <td>NaN</td>\n",
       "      <td>NaN</td>\n",
       "    </tr>\n",
       "  </tbody>\n",
       "</table>\n",
       "</div>"
      ],
      "text/plain": [
       "   0       1          2      3         4    5    6\n",
       "0  0       1          2      3         4  5.0  6.0\n",
       "1  1    momo     burger  pizza       NaN  NaN  NaN\n",
       "2  2  burger       coke    NaN       NaN  NaN  NaN\n",
       "3  3    momo      pizza   coke  chowmine  NaN  NaN\n",
       "4  4  burger  fench fry   coke       NaN  NaN  NaN"
      ]
     },
     "execution_count": 10,
     "metadata": {},
     "output_type": "execute_result"
    }
   ],
   "source": [
    "trans_data.head()"
   ]
  },
  {
   "cell_type": "code",
   "execution_count": 11,
   "metadata": {},
   "outputs": [
    {
     "data": {
      "text/plain": [
       "(5, 7)"
      ]
     },
     "execution_count": 11,
     "metadata": {},
     "output_type": "execute_result"
    }
   ],
   "source": [
    "trans_data.shape"
   ]
  },
  {
   "cell_type": "code",
   "execution_count": 12,
   "metadata": {},
   "outputs": [
    {
     "data": {
      "text/html": [
       "<div>\n",
       "<style scoped>\n",
       "    .dataframe tbody tr th:only-of-type {\n",
       "        vertical-align: middle;\n",
       "    }\n",
       "\n",
       "    .dataframe tbody tr th {\n",
       "        vertical-align: top;\n",
       "    }\n",
       "\n",
       "    .dataframe thead th {\n",
       "        text-align: right;\n",
       "    }\n",
       "</style>\n",
       "<table border=\"1\" class=\"dataframe\">\n",
       "  <thead>\n",
       "    <tr style=\"text-align: right;\">\n",
       "      <th></th>\n",
       "      <th>0</th>\n",
       "      <th>1</th>\n",
       "      <th>2</th>\n",
       "      <th>3</th>\n",
       "      <th>4</th>\n",
       "      <th>5</th>\n",
       "      <th>6</th>\n",
       "    </tr>\n",
       "  </thead>\n",
       "  <tbody>\n",
       "    <tr>\n",
       "      <th>0</th>\n",
       "      <td>0</td>\n",
       "      <td>1</td>\n",
       "      <td>2</td>\n",
       "      <td>3</td>\n",
       "      <td>4</td>\n",
       "      <td>5.0</td>\n",
       "      <td>6.0</td>\n",
       "    </tr>\n",
       "    <tr>\n",
       "      <th>1</th>\n",
       "      <td>1</td>\n",
       "      <td>momo</td>\n",
       "      <td>burger</td>\n",
       "      <td>pizza</td>\n",
       "      <td>NaN</td>\n",
       "      <td>NaN</td>\n",
       "      <td>NaN</td>\n",
       "    </tr>\n",
       "    <tr>\n",
       "      <th>2</th>\n",
       "      <td>2</td>\n",
       "      <td>burger</td>\n",
       "      <td>coke</td>\n",
       "      <td>NaN</td>\n",
       "      <td>NaN</td>\n",
       "      <td>NaN</td>\n",
       "      <td>NaN</td>\n",
       "    </tr>\n",
       "    <tr>\n",
       "      <th>3</th>\n",
       "      <td>3</td>\n",
       "      <td>momo</td>\n",
       "      <td>pizza</td>\n",
       "      <td>coke</td>\n",
       "      <td>chowmine</td>\n",
       "      <td>NaN</td>\n",
       "      <td>NaN</td>\n",
       "    </tr>\n",
       "    <tr>\n",
       "      <th>4</th>\n",
       "      <td>4</td>\n",
       "      <td>burger</td>\n",
       "      <td>fench fry</td>\n",
       "      <td>coke</td>\n",
       "      <td>NaN</td>\n",
       "      <td>NaN</td>\n",
       "      <td>NaN</td>\n",
       "    </tr>\n",
       "  </tbody>\n",
       "</table>\n",
       "</div>"
      ],
      "text/plain": [
       "   0       1          2      3         4    5    6\n",
       "0  0       1          2      3         4  5.0  6.0\n",
       "1  1    momo     burger  pizza       NaN  NaN  NaN\n",
       "2  2  burger       coke    NaN       NaN  NaN  NaN\n",
       "3  3    momo      pizza   coke  chowmine  NaN  NaN\n",
       "4  4  burger  fench fry   coke       NaN  NaN  NaN"
      ]
     },
     "execution_count": 12,
     "metadata": {},
     "output_type": "execute_result"
    }
   ],
   "source": [
    "trans_data"
   ]
  },
  {
   "cell_type": "code",
   "execution_count": 14,
   "metadata": {},
   "outputs": [],
   "source": [
    "records = []\n",
    "for i in range(0,5):\n",
    "    records.append([str(trans_data.values[i,j]) for j in range(0,7)])"
   ]
  },
  {
   "cell_type": "code",
   "execution_count": 15,
   "metadata": {},
   "outputs": [
    {
     "data": {
      "text/plain": [
       "[['0', '1', '2', '3', '4', '5.0', '6.0'],\n",
       " ['1', 'momo', 'burger', 'pizza', 'nan', 'nan', 'nan'],\n",
       " ['2', 'burger', 'coke', 'nan', 'nan', 'nan', 'nan'],\n",
       " ['3', 'momo', 'pizza', 'coke', 'chowmine', 'nan', 'nan'],\n",
       " ['4', 'burger', 'fench fry', 'coke', 'nan', 'nan', 'nan']]"
      ]
     },
     "execution_count": 15,
     "metadata": {},
     "output_type": "execute_result"
    }
   ],
   "source": [
    "records"
   ]
  },
  {
   "cell_type": "code",
   "execution_count": 16,
   "metadata": {},
   "outputs": [],
   "source": [
    "association_rules = apriori(records,min_support = 0.0050, min_confidence = 0.2, min_lift=3, min_length=3)\n",
    "association_results = list(association_rules)"
   ]
  },
  {
   "cell_type": "code",
   "execution_count": 17,
   "metadata": {},
   "outputs": [
    {
     "data": {
      "text/plain": [
       "<generator object apriori at 0x7efeef138af0>"
      ]
     },
     "execution_count": 17,
     "metadata": {},
     "output_type": "execute_result"
    }
   ],
   "source": [
    "association_rules"
   ]
  },
  {
   "cell_type": "code",
   "execution_count": 18,
   "metadata": {},
   "outputs": [
    {
     "data": {
      "text/plain": [
       "[RelationRecord(items=frozenset({'5.0', '0'}), support=0.2, ordered_statistics=[OrderedStatistic(items_base=frozenset({'0'}), items_add=frozenset({'5.0'}), confidence=1.0, lift=5.0), OrderedStatistic(items_base=frozenset({'5.0'}), items_add=frozenset({'0'}), confidence=1.0, lift=5.0)]),\n",
       " RelationRecord(items=frozenset({'6.0', '0'}), support=0.2, ordered_statistics=[OrderedStatistic(items_base=frozenset({'0'}), items_add=frozenset({'6.0'}), confidence=1.0, lift=5.0), OrderedStatistic(items_base=frozenset({'6.0'}), items_add=frozenset({'0'}), confidence=1.0, lift=5.0)]),\n",
       " RelationRecord(items=frozenset({'5.0', '6.0'}), support=0.2, ordered_statistics=[OrderedStatistic(items_base=frozenset({'5.0'}), items_add=frozenset({'6.0'}), confidence=1.0, lift=5.0), OrderedStatistic(items_base=frozenset({'6.0'}), items_add=frozenset({'5.0'}), confidence=1.0, lift=5.0)]),\n",
       " RelationRecord(items=frozenset({'2', '0', '1'}), support=0.2, ordered_statistics=[OrderedStatistic(items_base=frozenset({'2', '1'}), items_add=frozenset({'0'}), confidence=1.0, lift=5.0)]),\n",
       " RelationRecord(items=frozenset({'3', '0', '1'}), support=0.2, ordered_statistics=[OrderedStatistic(items_base=frozenset({'3', '1'}), items_add=frozenset({'0'}), confidence=1.0, lift=5.0)]),\n",
       " RelationRecord(items=frozenset({'0', '1', '4'}), support=0.2, ordered_statistics=[OrderedStatistic(items_base=frozenset({'1', '4'}), items_add=frozenset({'0'}), confidence=1.0, lift=5.0)]),\n",
       " RelationRecord(items=frozenset({'5.0', '0', '1'}), support=0.2, ordered_statistics=[OrderedStatistic(items_base=frozenset({'0', '1'}), items_add=frozenset({'5.0'}), confidence=1.0, lift=5.0), OrderedStatistic(items_base=frozenset({'5.0', '1'}), items_add=frozenset({'0'}), confidence=1.0, lift=5.0)]),\n",
       " RelationRecord(items=frozenset({'6.0', '0', '1'}), support=0.2, ordered_statistics=[OrderedStatistic(items_base=frozenset({'0', '1'}), items_add=frozenset({'6.0'}), confidence=1.0, lift=5.0), OrderedStatistic(items_base=frozenset({'6.0', '1'}), items_add=frozenset({'0'}), confidence=1.0, lift=5.0)]),\n",
       " RelationRecord(items=frozenset({'3', '0', '2'}), support=0.2, ordered_statistics=[OrderedStatistic(items_base=frozenset({'3', '2'}), items_add=frozenset({'0'}), confidence=1.0, lift=5.0)]),\n",
       " RelationRecord(items=frozenset({'0', '2', '4'}), support=0.2, ordered_statistics=[OrderedStatistic(items_base=frozenset({'2', '4'}), items_add=frozenset({'0'}), confidence=1.0, lift=5.0)]),\n",
       " RelationRecord(items=frozenset({'5.0', '0', '2'}), support=0.2, ordered_statistics=[OrderedStatistic(items_base=frozenset({'0', '2'}), items_add=frozenset({'5.0'}), confidence=1.0, lift=5.0), OrderedStatistic(items_base=frozenset({'5.0', '2'}), items_add=frozenset({'0'}), confidence=1.0, lift=5.0)]),\n",
       " RelationRecord(items=frozenset({'6.0', '0', '2'}), support=0.2, ordered_statistics=[OrderedStatistic(items_base=frozenset({'0', '2'}), items_add=frozenset({'6.0'}), confidence=1.0, lift=5.0), OrderedStatistic(items_base=frozenset({'6.0', '2'}), items_add=frozenset({'0'}), confidence=1.0, lift=5.0)]),\n",
       " RelationRecord(items=frozenset({'3', '0', '4'}), support=0.2, ordered_statistics=[OrderedStatistic(items_base=frozenset({'3', '4'}), items_add=frozenset({'0'}), confidence=1.0, lift=5.0)]),\n",
       " RelationRecord(items=frozenset({'5.0', '3', '0'}), support=0.2, ordered_statistics=[OrderedStatistic(items_base=frozenset({'3', '0'}), items_add=frozenset({'5.0'}), confidence=1.0, lift=5.0), OrderedStatistic(items_base=frozenset({'5.0', '3'}), items_add=frozenset({'0'}), confidence=1.0, lift=5.0)]),\n",
       " RelationRecord(items=frozenset({'3', '6.0', '0'}), support=0.2, ordered_statistics=[OrderedStatistic(items_base=frozenset({'3', '0'}), items_add=frozenset({'6.0'}), confidence=1.0, lift=5.0), OrderedStatistic(items_base=frozenset({'3', '6.0'}), items_add=frozenset({'0'}), confidence=1.0, lift=5.0)]),\n",
       " RelationRecord(items=frozenset({'5.0', '0', '4'}), support=0.2, ordered_statistics=[OrderedStatistic(items_base=frozenset({'0', '4'}), items_add=frozenset({'5.0'}), confidence=1.0, lift=5.0), OrderedStatistic(items_base=frozenset({'5.0', '4'}), items_add=frozenset({'0'}), confidence=1.0, lift=5.0)]),\n",
       " RelationRecord(items=frozenset({'6.0', '0', '4'}), support=0.2, ordered_statistics=[OrderedStatistic(items_base=frozenset({'0', '4'}), items_add=frozenset({'6.0'}), confidence=1.0, lift=5.0), OrderedStatistic(items_base=frozenset({'6.0', '4'}), items_add=frozenset({'0'}), confidence=1.0, lift=5.0)]),\n",
       " RelationRecord(items=frozenset({'5.0', '6.0', '0'}), support=0.2, ordered_statistics=[OrderedStatistic(items_base=frozenset({'5.0', '0'}), items_add=frozenset({'6.0'}), confidence=1.0, lift=5.0), OrderedStatistic(items_base=frozenset({'6.0', '0'}), items_add=frozenset({'5.0'}), confidence=1.0, lift=5.0), OrderedStatistic(items_base=frozenset({'5.0', '6.0'}), items_add=frozenset({'0'}), confidence=1.0, lift=5.0)]),\n",
       " RelationRecord(items=frozenset({'5.0', '2', '1'}), support=0.2, ordered_statistics=[OrderedStatistic(items_base=frozenset({'2', '1'}), items_add=frozenset({'5.0'}), confidence=1.0, lift=5.0)]),\n",
       " RelationRecord(items=frozenset({'6.0', '2', '1'}), support=0.2, ordered_statistics=[OrderedStatistic(items_base=frozenset({'2', '1'}), items_add=frozenset({'6.0'}), confidence=1.0, lift=5.0)]),\n",
       " RelationRecord(items=frozenset({'5.0', '3', '1'}), support=0.2, ordered_statistics=[OrderedStatistic(items_base=frozenset({'3', '1'}), items_add=frozenset({'5.0'}), confidence=1.0, lift=5.0)]),\n",
       " RelationRecord(items=frozenset({'3', '6.0', '1'}), support=0.2, ordered_statistics=[OrderedStatistic(items_base=frozenset({'3', '1'}), items_add=frozenset({'6.0'}), confidence=1.0, lift=5.0)]),\n",
       " RelationRecord(items=frozenset({'5.0', '1', '4'}), support=0.2, ordered_statistics=[OrderedStatistic(items_base=frozenset({'1', '4'}), items_add=frozenset({'5.0'}), confidence=1.0, lift=5.0)]),\n",
       " RelationRecord(items=frozenset({'6.0', '1', '4'}), support=0.2, ordered_statistics=[OrderedStatistic(items_base=frozenset({'1', '4'}), items_add=frozenset({'6.0'}), confidence=1.0, lift=5.0)]),\n",
       " RelationRecord(items=frozenset({'5.0', '6.0', '1'}), support=0.2, ordered_statistics=[OrderedStatistic(items_base=frozenset({'5.0', '1'}), items_add=frozenset({'6.0'}), confidence=1.0, lift=5.0), OrderedStatistic(items_base=frozenset({'6.0', '1'}), items_add=frozenset({'5.0'}), confidence=1.0, lift=5.0)]),\n",
       " RelationRecord(items=frozenset({'5.0', '3', '2'}), support=0.2, ordered_statistics=[OrderedStatistic(items_base=frozenset({'3', '2'}), items_add=frozenset({'5.0'}), confidence=1.0, lift=5.0)]),\n",
       " RelationRecord(items=frozenset({'3', '6.0', '2'}), support=0.2, ordered_statistics=[OrderedStatistic(items_base=frozenset({'3', '2'}), items_add=frozenset({'6.0'}), confidence=1.0, lift=5.0)]),\n",
       " RelationRecord(items=frozenset({'5.0', '2', '4'}), support=0.2, ordered_statistics=[OrderedStatistic(items_base=frozenset({'2', '4'}), items_add=frozenset({'5.0'}), confidence=1.0, lift=5.0)]),\n",
       " RelationRecord(items=frozenset({'6.0', '2', '4'}), support=0.2, ordered_statistics=[OrderedStatistic(items_base=frozenset({'2', '4'}), items_add=frozenset({'6.0'}), confidence=1.0, lift=5.0)]),\n",
       " RelationRecord(items=frozenset({'5.0', '6.0', '2'}), support=0.2, ordered_statistics=[OrderedStatistic(items_base=frozenset({'5.0', '2'}), items_add=frozenset({'6.0'}), confidence=1.0, lift=5.0), OrderedStatistic(items_base=frozenset({'6.0', '2'}), items_add=frozenset({'5.0'}), confidence=1.0, lift=5.0)]),\n",
       " RelationRecord(items=frozenset({'5.0', '3', '4'}), support=0.2, ordered_statistics=[OrderedStatistic(items_base=frozenset({'3', '4'}), items_add=frozenset({'5.0'}), confidence=1.0, lift=5.0)]),\n",
       " RelationRecord(items=frozenset({'3', '6.0', '4'}), support=0.2, ordered_statistics=[OrderedStatistic(items_base=frozenset({'3', '4'}), items_add=frozenset({'6.0'}), confidence=1.0, lift=5.0)]),\n",
       " RelationRecord(items=frozenset({'5.0', '3', '6.0'}), support=0.2, ordered_statistics=[OrderedStatistic(items_base=frozenset({'5.0', '3'}), items_add=frozenset({'6.0'}), confidence=1.0, lift=5.0), OrderedStatistic(items_base=frozenset({'3', '6.0'}), items_add=frozenset({'5.0'}), confidence=1.0, lift=5.0)]),\n",
       " RelationRecord(items=frozenset({'3', 'chowmine', 'coke'}), support=0.2, ordered_statistics=[OrderedStatistic(items_base=frozenset({'3', 'coke'}), items_add=frozenset({'chowmine'}), confidence=1.0, lift=5.0)]),\n",
       " RelationRecord(items=frozenset({'3', 'chowmine', 'momo'}), support=0.2, ordered_statistics=[OrderedStatistic(items_base=frozenset({'3', 'momo'}), items_add=frozenset({'chowmine'}), confidence=1.0, lift=5.0)]),\n",
       " RelationRecord(items=frozenset({'3', 'chowmine', 'nan'}), support=0.2, ordered_statistics=[OrderedStatistic(items_base=frozenset({'3', 'nan'}), items_add=frozenset({'chowmine'}), confidence=1.0, lift=5.0)]),\n",
       " RelationRecord(items=frozenset({'pizza', '3', 'chowmine'}), support=0.2, ordered_statistics=[OrderedStatistic(items_base=frozenset({'pizza', '3'}), items_add=frozenset({'chowmine'}), confidence=1.0, lift=5.0)]),\n",
       " RelationRecord(items=frozenset({'5.0', '6.0', '4'}), support=0.2, ordered_statistics=[OrderedStatistic(items_base=frozenset({'5.0', '4'}), items_add=frozenset({'6.0'}), confidence=1.0, lift=5.0), OrderedStatistic(items_base=frozenset({'6.0', '4'}), items_add=frozenset({'5.0'}), confidence=1.0, lift=5.0)]),\n",
       " RelationRecord(items=frozenset({'burger', 'fench fry', '4'}), support=0.2, ordered_statistics=[OrderedStatistic(items_base=frozenset({'burger', '4'}), items_add=frozenset({'fench fry'}), confidence=1.0, lift=5.0)]),\n",
       " RelationRecord(items=frozenset({'coke', 'fench fry', '4'}), support=0.2, ordered_statistics=[OrderedStatistic(items_base=frozenset({'coke', '4'}), items_add=frozenset({'fench fry'}), confidence=1.0, lift=5.0)]),\n",
       " RelationRecord(items=frozenset({'nan', 'fench fry', '4'}), support=0.2, ordered_statistics=[OrderedStatistic(items_base=frozenset({'nan', '4'}), items_add=frozenset({'fench fry'}), confidence=1.0, lift=5.0)]),\n",
       " RelationRecord(items=frozenset({'chowmine', 'coke', 'momo'}), support=0.2, ordered_statistics=[OrderedStatistic(items_base=frozenset({'momo', 'coke'}), items_add=frozenset({'chowmine'}), confidence=1.0, lift=5.0)]),\n",
       " RelationRecord(items=frozenset({'pizza', 'chowmine', 'coke'}), support=0.2, ordered_statistics=[OrderedStatistic(items_base=frozenset({'pizza', 'coke'}), items_add=frozenset({'chowmine'}), confidence=1.0, lift=5.0)]),\n",
       " RelationRecord(items=frozenset({'3', '2', '0', '1'}), support=0.2, ordered_statistics=[OrderedStatistic(items_base=frozenset({'3', '2', '1'}), items_add=frozenset({'0'}), confidence=1.0, lift=5.0)]),\n",
       " RelationRecord(items=frozenset({'2', '0', '1', '4'}), support=0.2, ordered_statistics=[OrderedStatistic(items_base=frozenset({'2', '1', '4'}), items_add=frozenset({'0'}), confidence=1.0, lift=5.0)]),\n",
       " RelationRecord(items=frozenset({'5.0', '2', '0', '1'}), support=0.2, ordered_statistics=[OrderedStatistic(items_base=frozenset({'2', '0', '1'}), items_add=frozenset({'5.0'}), confidence=1.0, lift=5.0), OrderedStatistic(items_base=frozenset({'5.0', '2', '1'}), items_add=frozenset({'0'}), confidence=1.0, lift=5.0)]),\n",
       " RelationRecord(items=frozenset({'6.0', '2', '0', '1'}), support=0.2, ordered_statistics=[OrderedStatistic(items_base=frozenset({'2', '0', '1'}), items_add=frozenset({'6.0'}), confidence=1.0, lift=5.0), OrderedStatistic(items_base=frozenset({'6.0', '2', '1'}), items_add=frozenset({'0'}), confidence=1.0, lift=5.0)]),\n",
       " RelationRecord(items=frozenset({'3', '0', '1', '4'}), support=0.2, ordered_statistics=[OrderedStatistic(items_base=frozenset({'3', '1', '4'}), items_add=frozenset({'0'}), confidence=1.0, lift=5.0)]),\n",
       " RelationRecord(items=frozenset({'5.0', '3', '0', '1'}), support=0.2, ordered_statistics=[OrderedStatistic(items_base=frozenset({'3', '0', '1'}), items_add=frozenset({'5.0'}), confidence=1.0, lift=5.0), OrderedStatistic(items_base=frozenset({'5.0', '3', '1'}), items_add=frozenset({'0'}), confidence=1.0, lift=5.0)]),\n",
       " RelationRecord(items=frozenset({'3', '6.0', '0', '1'}), support=0.2, ordered_statistics=[OrderedStatistic(items_base=frozenset({'3', '0', '1'}), items_add=frozenset({'6.0'}), confidence=1.0, lift=5.0), OrderedStatistic(items_base=frozenset({'3', '6.0', '1'}), items_add=frozenset({'0'}), confidence=1.0, lift=5.0)]),\n",
       " RelationRecord(items=frozenset({'5.0', '0', '1', '4'}), support=0.2, ordered_statistics=[OrderedStatistic(items_base=frozenset({'0', '1', '4'}), items_add=frozenset({'5.0'}), confidence=1.0, lift=5.0), OrderedStatistic(items_base=frozenset({'5.0', '1', '4'}), items_add=frozenset({'0'}), confidence=1.0, lift=5.0)]),\n",
       " RelationRecord(items=frozenset({'6.0', '0', '1', '4'}), support=0.2, ordered_statistics=[OrderedStatistic(items_base=frozenset({'0', '1', '4'}), items_add=frozenset({'6.0'}), confidence=1.0, lift=5.0), OrderedStatistic(items_base=frozenset({'6.0', '1', '4'}), items_add=frozenset({'0'}), confidence=1.0, lift=5.0)]),\n",
       " RelationRecord(items=frozenset({'5.0', '6.0', '0', '1'}), support=0.2, ordered_statistics=[OrderedStatistic(items_base=frozenset({'5.0', '0', '1'}), items_add=frozenset({'6.0'}), confidence=1.0, lift=5.0), OrderedStatistic(items_base=frozenset({'6.0', '0', '1'}), items_add=frozenset({'5.0'}), confidence=1.0, lift=5.0), OrderedStatistic(items_base=frozenset({'5.0', '6.0', '1'}), items_add=frozenset({'0'}), confidence=1.0, lift=5.0)]),\n",
       " RelationRecord(items=frozenset({'3', '0', '2', '4'}), support=0.2, ordered_statistics=[OrderedStatistic(items_base=frozenset({'3', '2', '4'}), items_add=frozenset({'0'}), confidence=1.0, lift=5.0)]),\n",
       " RelationRecord(items=frozenset({'5.0', '3', '0', '2'}), support=0.2, ordered_statistics=[OrderedStatistic(items_base=frozenset({'3', '0', '2'}), items_add=frozenset({'5.0'}), confidence=1.0, lift=5.0), OrderedStatistic(items_base=frozenset({'5.0', '3', '2'}), items_add=frozenset({'0'}), confidence=1.0, lift=5.0)]),\n",
       " RelationRecord(items=frozenset({'3', '6.0', '0', '2'}), support=0.2, ordered_statistics=[OrderedStatistic(items_base=frozenset({'3', '0', '2'}), items_add=frozenset({'6.0'}), confidence=1.0, lift=5.0), OrderedStatistic(items_base=frozenset({'3', '6.0', '2'}), items_add=frozenset({'0'}), confidence=1.0, lift=5.0)]),\n",
       " RelationRecord(items=frozenset({'5.0', '0', '2', '4'}), support=0.2, ordered_statistics=[OrderedStatistic(items_base=frozenset({'0', '2', '4'}), items_add=frozenset({'5.0'}), confidence=1.0, lift=5.0), OrderedStatistic(items_base=frozenset({'5.0', '2', '4'}), items_add=frozenset({'0'}), confidence=1.0, lift=5.0)]),\n",
       " RelationRecord(items=frozenset({'6.0', '0', '2', '4'}), support=0.2, ordered_statistics=[OrderedStatistic(items_base=frozenset({'0', '2', '4'}), items_add=frozenset({'6.0'}), confidence=1.0, lift=5.0), OrderedStatistic(items_base=frozenset({'6.0', '2', '4'}), items_add=frozenset({'0'}), confidence=1.0, lift=5.0)]),\n",
       " RelationRecord(items=frozenset({'5.0', '6.0', '0', '2'}), support=0.2, ordered_statistics=[OrderedStatistic(items_base=frozenset({'5.0', '0', '2'}), items_add=frozenset({'6.0'}), confidence=1.0, lift=5.0), OrderedStatistic(items_base=frozenset({'6.0', '0', '2'}), items_add=frozenset({'5.0'}), confidence=1.0, lift=5.0), OrderedStatistic(items_base=frozenset({'5.0', '6.0', '2'}), items_add=frozenset({'0'}), confidence=1.0, lift=5.0)]),\n",
       " RelationRecord(items=frozenset({'5.0', '3', '0', '4'}), support=0.2, ordered_statistics=[OrderedStatistic(items_base=frozenset({'3', '0', '4'}), items_add=frozenset({'5.0'}), confidence=1.0, lift=5.0), OrderedStatistic(items_base=frozenset({'5.0', '3', '4'}), items_add=frozenset({'0'}), confidence=1.0, lift=5.0)]),\n",
       " RelationRecord(items=frozenset({'3', '6.0', '0', '4'}), support=0.2, ordered_statistics=[OrderedStatistic(items_base=frozenset({'3', '0', '4'}), items_add=frozenset({'6.0'}), confidence=1.0, lift=5.0), OrderedStatistic(items_base=frozenset({'3', '6.0', '4'}), items_add=frozenset({'0'}), confidence=1.0, lift=5.0)]),\n",
       " RelationRecord(items=frozenset({'5.0', '3', '6.0', '0'}), support=0.2, ordered_statistics=[OrderedStatistic(items_base=frozenset({'5.0', '3', '0'}), items_add=frozenset({'6.0'}), confidence=1.0, lift=5.0), OrderedStatistic(items_base=frozenset({'3', '6.0', '0'}), items_add=frozenset({'5.0'}), confidence=1.0, lift=5.0), OrderedStatistic(items_base=frozenset({'5.0', '3', '6.0'}), items_add=frozenset({'0'}), confidence=1.0, lift=5.0)]),\n",
       " RelationRecord(items=frozenset({'5.0', '6.0', '0', '4'}), support=0.2, ordered_statistics=[OrderedStatistic(items_base=frozenset({'5.0', '0', '4'}), items_add=frozenset({'6.0'}), confidence=1.0, lift=5.0), OrderedStatistic(items_base=frozenset({'6.0', '0', '4'}), items_add=frozenset({'5.0'}), confidence=1.0, lift=5.0), OrderedStatistic(items_base=frozenset({'5.0', '6.0', '4'}), items_add=frozenset({'0'}), confidence=1.0, lift=5.0)]),\n",
       " RelationRecord(items=frozenset({'5.0', '3', '2', '1'}), support=0.2, ordered_statistics=[OrderedStatistic(items_base=frozenset({'3', '2', '1'}), items_add=frozenset({'5.0'}), confidence=1.0, lift=5.0)]),\n",
       " RelationRecord(items=frozenset({'3', '2', '6.0', '1'}), support=0.2, ordered_statistics=[OrderedStatistic(items_base=frozenset({'3', '2', '1'}), items_add=frozenset({'6.0'}), confidence=1.0, lift=5.0)]),\n",
       " RelationRecord(items=frozenset({'5.0', '2', '1', '4'}), support=0.2, ordered_statistics=[OrderedStatistic(items_base=frozenset({'2', '1', '4'}), items_add=frozenset({'5.0'}), confidence=1.0, lift=5.0)]),\n",
       " RelationRecord(items=frozenset({'6.0', '2', '1', '4'}), support=0.2, ordered_statistics=[OrderedStatistic(items_base=frozenset({'2', '1', '4'}), items_add=frozenset({'6.0'}), confidence=1.0, lift=5.0)]),\n",
       " RelationRecord(items=frozenset({'5.0', '6.0', '2', '1'}), support=0.2, ordered_statistics=[OrderedStatistic(items_base=frozenset({'5.0', '2', '1'}), items_add=frozenset({'6.0'}), confidence=1.0, lift=5.0), OrderedStatistic(items_base=frozenset({'6.0', '2', '1'}), items_add=frozenset({'5.0'}), confidence=1.0, lift=5.0)]),\n",
       " RelationRecord(items=frozenset({'5.0', '3', '1', '4'}), support=0.2, ordered_statistics=[OrderedStatistic(items_base=frozenset({'3', '1', '4'}), items_add=frozenset({'5.0'}), confidence=1.0, lift=5.0)]),\n",
       " RelationRecord(items=frozenset({'3', '6.0', '1', '4'}), support=0.2, ordered_statistics=[OrderedStatistic(items_base=frozenset({'3', '1', '4'}), items_add=frozenset({'6.0'}), confidence=1.0, lift=5.0)]),\n",
       " RelationRecord(items=frozenset({'5.0', '3', '6.0', '1'}), support=0.2, ordered_statistics=[OrderedStatistic(items_base=frozenset({'5.0', '3', '1'}), items_add=frozenset({'6.0'}), confidence=1.0, lift=5.0), OrderedStatistic(items_base=frozenset({'3', '6.0', '1'}), items_add=frozenset({'5.0'}), confidence=1.0, lift=5.0)]),\n",
       " RelationRecord(items=frozenset({'5.0', '6.0', '1', '4'}), support=0.2, ordered_statistics=[OrderedStatistic(items_base=frozenset({'5.0', '1', '4'}), items_add=frozenset({'6.0'}), confidence=1.0, lift=5.0), OrderedStatistic(items_base=frozenset({'6.0', '1', '4'}), items_add=frozenset({'5.0'}), confidence=1.0, lift=5.0)]),\n",
       " RelationRecord(items=frozenset({'5.0', '3', '2', '4'}), support=0.2, ordered_statistics=[OrderedStatistic(items_base=frozenset({'3', '2', '4'}), items_add=frozenset({'5.0'}), confidence=1.0, lift=5.0)]),\n",
       " RelationRecord(items=frozenset({'3', '6.0', '2', '4'}), support=0.2, ordered_statistics=[OrderedStatistic(items_base=frozenset({'3', '2', '4'}), items_add=frozenset({'6.0'}), confidence=1.0, lift=5.0)]),\n",
       " RelationRecord(items=frozenset({'5.0', '3', '6.0', '2'}), support=0.2, ordered_statistics=[OrderedStatistic(items_base=frozenset({'5.0', '3', '2'}), items_add=frozenset({'6.0'}), confidence=1.0, lift=5.0), OrderedStatistic(items_base=frozenset({'3', '6.0', '2'}), items_add=frozenset({'5.0'}), confidence=1.0, lift=5.0)]),\n",
       " RelationRecord(items=frozenset({'5.0', '6.0', '2', '4'}), support=0.2, ordered_statistics=[OrderedStatistic(items_base=frozenset({'5.0', '2', '4'}), items_add=frozenset({'6.0'}), confidence=1.0, lift=5.0), OrderedStatistic(items_base=frozenset({'6.0', '2', '4'}), items_add=frozenset({'5.0'}), confidence=1.0, lift=5.0)]),\n",
       " RelationRecord(items=frozenset({'5.0', '3', '6.0', '4'}), support=0.2, ordered_statistics=[OrderedStatistic(items_base=frozenset({'5.0', '3', '4'}), items_add=frozenset({'6.0'}), confidence=1.0, lift=5.0), OrderedStatistic(items_base=frozenset({'3', '6.0', '4'}), items_add=frozenset({'5.0'}), confidence=1.0, lift=5.0)]),\n",
       " RelationRecord(items=frozenset({'3', 'chowmine', 'coke', 'momo'}), support=0.2, ordered_statistics=[OrderedStatistic(items_base=frozenset({'3', 'coke', 'momo'}), items_add=frozenset({'chowmine'}), confidence=1.0, lift=5.0)]),\n",
       " RelationRecord(items=frozenset({'3', 'chowmine', 'coke', 'nan'}), support=0.2, ordered_statistics=[OrderedStatistic(items_base=frozenset({'3', 'coke', 'nan'}), items_add=frozenset({'chowmine'}), confidence=1.0, lift=5.0)]),\n",
       " RelationRecord(items=frozenset({'pizza', '3', 'chowmine', 'coke'}), support=0.2, ordered_statistics=[OrderedStatistic(items_base=frozenset({'pizza', '3', 'coke'}), items_add=frozenset({'chowmine'}), confidence=1.0, lift=5.0)]),\n",
       " RelationRecord(items=frozenset({'3', 'chowmine', 'momo', 'nan'}), support=0.2, ordered_statistics=[OrderedStatistic(items_base=frozenset({'3', 'nan', 'momo'}), items_add=frozenset({'chowmine'}), confidence=1.0, lift=5.0)]),\n",
       " RelationRecord(items=frozenset({'pizza', '3', 'chowmine', 'momo'}), support=0.2, ordered_statistics=[OrderedStatistic(items_base=frozenset({'pizza', '3', 'momo'}), items_add=frozenset({'chowmine'}), confidence=1.0, lift=5.0)]),\n",
       " RelationRecord(items=frozenset({'pizza', '3', 'chowmine', 'nan'}), support=0.2, ordered_statistics=[OrderedStatistic(items_base=frozenset({'pizza', '3', 'nan'}), items_add=frozenset({'chowmine'}), confidence=1.0, lift=5.0)]),\n",
       " RelationRecord(items=frozenset({'coke', 'burger', 'fench fry', '4'}), support=0.2, ordered_statistics=[OrderedStatistic(items_base=frozenset({'coke', 'burger', '4'}), items_add=frozenset({'fench fry'}), confidence=1.0, lift=5.0)]),\n",
       " RelationRecord(items=frozenset({'nan', 'burger', 'fench fry', '4'}), support=0.2, ordered_statistics=[OrderedStatistic(items_base=frozenset({'nan', 'burger', '4'}), items_add=frozenset({'fench fry'}), confidence=1.0, lift=5.0)]),\n",
       " RelationRecord(items=frozenset({'coke', 'nan', 'fench fry', '4'}), support=0.2, ordered_statistics=[OrderedStatistic(items_base=frozenset({'coke', 'nan', '4'}), items_add=frozenset({'fench fry'}), confidence=1.0, lift=5.0)]),\n",
       " RelationRecord(items=frozenset({'chowmine', 'coke', 'momo', 'nan'}), support=0.2, ordered_statistics=[OrderedStatistic(items_base=frozenset({'momo', 'coke', 'nan'}), items_add=frozenset({'chowmine'}), confidence=1.0, lift=5.0)]),\n",
       " RelationRecord(items=frozenset({'pizza', 'chowmine', 'coke', 'momo'}), support=0.2, ordered_statistics=[OrderedStatistic(items_base=frozenset({'pizza', 'momo', 'coke'}), items_add=frozenset({'chowmine'}), confidence=1.0, lift=5.0)]),\n",
       " RelationRecord(items=frozenset({'pizza', 'chowmine', 'coke', 'nan'}), support=0.2, ordered_statistics=[OrderedStatistic(items_base=frozenset({'pizza', 'coke', 'nan'}), items_add=frozenset({'chowmine'}), confidence=1.0, lift=5.0)]),\n",
       " RelationRecord(items=frozenset({'3', '2', '0', '4', '1'}), support=0.2, ordered_statistics=[OrderedStatistic(items_base=frozenset({'3', '2', '1', '4'}), items_add=frozenset({'0'}), confidence=1.0, lift=5.0)]),\n",
       " RelationRecord(items=frozenset({'5.0', '3', '2', '0', '1'}), support=0.2, ordered_statistics=[OrderedStatistic(items_base=frozenset({'3', '2', '0', '1'}), items_add=frozenset({'5.0'}), confidence=1.0, lift=5.0), OrderedStatistic(items_base=frozenset({'5.0', '3', '2', '1'}), items_add=frozenset({'0'}), confidence=1.0, lift=5.0)]),\n",
       " RelationRecord(items=frozenset({'3', '2', '0', '6.0', '1'}), support=0.2, ordered_statistics=[OrderedStatistic(items_base=frozenset({'3', '2', '0', '1'}), items_add=frozenset({'6.0'}), confidence=1.0, lift=5.0), OrderedStatistic(items_base=frozenset({'3', '2', '6.0', '1'}), items_add=frozenset({'0'}), confidence=1.0, lift=5.0)]),\n",
       " RelationRecord(items=frozenset({'5.0', '2', '0', '4', '1'}), support=0.2, ordered_statistics=[OrderedStatistic(items_base=frozenset({'2', '0', '1', '4'}), items_add=frozenset({'5.0'}), confidence=1.0, lift=5.0), OrderedStatistic(items_base=frozenset({'5.0', '2', '1', '4'}), items_add=frozenset({'0'}), confidence=1.0, lift=5.0)]),\n",
       " RelationRecord(items=frozenset({'2', '0', '4', '6.0', '1'}), support=0.2, ordered_statistics=[OrderedStatistic(items_base=frozenset({'2', '0', '1', '4'}), items_add=frozenset({'6.0'}), confidence=1.0, lift=5.0), OrderedStatistic(items_base=frozenset({'6.0', '2', '1', '4'}), items_add=frozenset({'0'}), confidence=1.0, lift=5.0)]),\n",
       " RelationRecord(items=frozenset({'5.0', '2', '0', '6.0', '1'}), support=0.2, ordered_statistics=[OrderedStatistic(items_base=frozenset({'5.0', '2', '0', '1'}), items_add=frozenset({'6.0'}), confidence=1.0, lift=5.0), OrderedStatistic(items_base=frozenset({'6.0', '2', '0', '1'}), items_add=frozenset({'5.0'}), confidence=1.0, lift=5.0), OrderedStatistic(items_base=frozenset({'5.0', '6.0', '2', '1'}), items_add=frozenset({'0'}), confidence=1.0, lift=5.0)]),\n",
       " RelationRecord(items=frozenset({'5.0', '3', '0', '4', '1'}), support=0.2, ordered_statistics=[OrderedStatistic(items_base=frozenset({'3', '0', '1', '4'}), items_add=frozenset({'5.0'}), confidence=1.0, lift=5.0), OrderedStatistic(items_base=frozenset({'5.0', '3', '1', '4'}), items_add=frozenset({'0'}), confidence=1.0, lift=5.0)]),\n",
       " RelationRecord(items=frozenset({'3', '0', '4', '6.0', '1'}), support=0.2, ordered_statistics=[OrderedStatistic(items_base=frozenset({'3', '0', '1', '4'}), items_add=frozenset({'6.0'}), confidence=1.0, lift=5.0), OrderedStatistic(items_base=frozenset({'3', '6.0', '1', '4'}), items_add=frozenset({'0'}), confidence=1.0, lift=5.0)]),\n",
       " RelationRecord(items=frozenset({'5.0', '3', '0', '6.0', '1'}), support=0.2, ordered_statistics=[OrderedStatistic(items_base=frozenset({'5.0', '3', '0', '1'}), items_add=frozenset({'6.0'}), confidence=1.0, lift=5.0), OrderedStatistic(items_base=frozenset({'3', '6.0', '0', '1'}), items_add=frozenset({'5.0'}), confidence=1.0, lift=5.0), OrderedStatistic(items_base=frozenset({'5.0', '3', '6.0', '1'}), items_add=frozenset({'0'}), confidence=1.0, lift=5.0)]),\n",
       " RelationRecord(items=frozenset({'5.0', '0', '4', '6.0', '1'}), support=0.2, ordered_statistics=[OrderedStatistic(items_base=frozenset({'5.0', '0', '1', '4'}), items_add=frozenset({'6.0'}), confidence=1.0, lift=5.0), OrderedStatistic(items_base=frozenset({'6.0', '0', '1', '4'}), items_add=frozenset({'5.0'}), confidence=1.0, lift=5.0), OrderedStatistic(items_base=frozenset({'5.0', '6.0', '1', '4'}), items_add=frozenset({'0'}), confidence=1.0, lift=5.0)]),\n",
       " RelationRecord(items=frozenset({'5.0', '3', '2', '0', '4'}), support=0.2, ordered_statistics=[OrderedStatistic(items_base=frozenset({'3', '0', '2', '4'}), items_add=frozenset({'5.0'}), confidence=1.0, lift=5.0), OrderedStatistic(items_base=frozenset({'5.0', '3', '2', '4'}), items_add=frozenset({'0'}), confidence=1.0, lift=5.0)]),\n",
       " RelationRecord(items=frozenset({'3', '2', '0', '4', '6.0'}), support=0.2, ordered_statistics=[OrderedStatistic(items_base=frozenset({'3', '0', '2', '4'}), items_add=frozenset({'6.0'}), confidence=1.0, lift=5.0), OrderedStatistic(items_base=frozenset({'3', '6.0', '2', '4'}), items_add=frozenset({'0'}), confidence=1.0, lift=5.0)]),\n",
       " RelationRecord(items=frozenset({'5.0', '3', '2', '0', '6.0'}), support=0.2, ordered_statistics=[OrderedStatistic(items_base=frozenset({'5.0', '3', '0', '2'}), items_add=frozenset({'6.0'}), confidence=1.0, lift=5.0), OrderedStatistic(items_base=frozenset({'3', '6.0', '0', '2'}), items_add=frozenset({'5.0'}), confidence=1.0, lift=5.0), OrderedStatistic(items_base=frozenset({'5.0', '3', '6.0', '2'}), items_add=frozenset({'0'}), confidence=1.0, lift=5.0)]),\n",
       " RelationRecord(items=frozenset({'5.0', '2', '0', '4', '6.0'}), support=0.2, ordered_statistics=[OrderedStatistic(items_base=frozenset({'5.0', '0', '2', '4'}), items_add=frozenset({'6.0'}), confidence=1.0, lift=5.0), OrderedStatistic(items_base=frozenset({'6.0', '0', '2', '4'}), items_add=frozenset({'5.0'}), confidence=1.0, lift=5.0), OrderedStatistic(items_base=frozenset({'5.0', '6.0', '2', '4'}), items_add=frozenset({'0'}), confidence=1.0, lift=5.0)]),\n",
       " RelationRecord(items=frozenset({'5.0', '3', '0', '4', '6.0'}), support=0.2, ordered_statistics=[OrderedStatistic(items_base=frozenset({'5.0', '3', '0', '4'}), items_add=frozenset({'6.0'}), confidence=1.0, lift=5.0), OrderedStatistic(items_base=frozenset({'3', '6.0', '0', '4'}), items_add=frozenset({'5.0'}), confidence=1.0, lift=5.0), OrderedStatistic(items_base=frozenset({'5.0', '3', '6.0', '4'}), items_add=frozenset({'0'}), confidence=1.0, lift=5.0)]),\n",
       " RelationRecord(items=frozenset({'5.0', '3', '2', '4', '1'}), support=0.2, ordered_statistics=[OrderedStatistic(items_base=frozenset({'3', '2', '1', '4'}), items_add=frozenset({'5.0'}), confidence=1.0, lift=5.0)]),\n",
       " RelationRecord(items=frozenset({'3', '2', '4', '6.0', '1'}), support=0.2, ordered_statistics=[OrderedStatistic(items_base=frozenset({'3', '2', '1', '4'}), items_add=frozenset({'6.0'}), confidence=1.0, lift=5.0)]),\n",
       " RelationRecord(items=frozenset({'5.0', '3', '2', '6.0', '1'}), support=0.2, ordered_statistics=[OrderedStatistic(items_base=frozenset({'5.0', '3', '2', '1'}), items_add=frozenset({'6.0'}), confidence=1.0, lift=5.0), OrderedStatistic(items_base=frozenset({'3', '2', '6.0', '1'}), items_add=frozenset({'5.0'}), confidence=1.0, lift=5.0)]),\n",
       " RelationRecord(items=frozenset({'5.0', '2', '4', '6.0', '1'}), support=0.2, ordered_statistics=[OrderedStatistic(items_base=frozenset({'5.0', '2', '1', '4'}), items_add=frozenset({'6.0'}), confidence=1.0, lift=5.0), OrderedStatistic(items_base=frozenset({'6.0', '2', '1', '4'}), items_add=frozenset({'5.0'}), confidence=1.0, lift=5.0)]),\n",
       " RelationRecord(items=frozenset({'5.0', '3', '4', '6.0', '1'}), support=0.2, ordered_statistics=[OrderedStatistic(items_base=frozenset({'5.0', '3', '1', '4'}), items_add=frozenset({'6.0'}), confidence=1.0, lift=5.0), OrderedStatistic(items_base=frozenset({'3', '6.0', '1', '4'}), items_add=frozenset({'5.0'}), confidence=1.0, lift=5.0)]),\n",
       " RelationRecord(items=frozenset({'5.0', '3', '2', '4', '6.0'}), support=0.2, ordered_statistics=[OrderedStatistic(items_base=frozenset({'5.0', '3', '2', '4'}), items_add=frozenset({'6.0'}), confidence=1.0, lift=5.0), OrderedStatistic(items_base=frozenset({'3', '6.0', '2', '4'}), items_add=frozenset({'5.0'}), confidence=1.0, lift=5.0)]),\n",
       " RelationRecord(items=frozenset({'3', 'momo', 'chowmine', 'coke', 'nan'}), support=0.2, ordered_statistics=[OrderedStatistic(items_base=frozenset({'3', 'coke', 'momo', 'nan'}), items_add=frozenset({'chowmine'}), confidence=1.0, lift=5.0)]),\n",
       " RelationRecord(items=frozenset({'pizza', '3', 'momo', 'chowmine', 'coke'}), support=0.2, ordered_statistics=[OrderedStatistic(items_base=frozenset({'pizza', '3', 'coke', 'momo'}), items_add=frozenset({'chowmine'}), confidence=1.0, lift=5.0)]),\n",
       " RelationRecord(items=frozenset({'pizza', '3', 'chowmine', 'coke', 'nan'}), support=0.2, ordered_statistics=[OrderedStatistic(items_base=frozenset({'pizza', '3', 'coke', 'nan'}), items_add=frozenset({'chowmine'}), confidence=1.0, lift=5.0)]),\n",
       " RelationRecord(items=frozenset({'pizza', '3', 'momo', 'chowmine', 'nan'}), support=0.2, ordered_statistics=[OrderedStatistic(items_base=frozenset({'pizza', '3', 'nan', 'momo'}), items_add=frozenset({'chowmine'}), confidence=1.0, lift=5.0)]),\n",
       " RelationRecord(items=frozenset({'burger', 'coke', '4', 'nan', 'fench fry'}), support=0.2, ordered_statistics=[OrderedStatistic(items_base=frozenset({'coke', 'nan', 'burger', '4'}), items_add=frozenset({'fench fry'}), confidence=1.0, lift=5.0)]),\n",
       " RelationRecord(items=frozenset({'pizza', 'momo', 'chowmine', 'coke', 'nan'}), support=0.2, ordered_statistics=[OrderedStatistic(items_base=frozenset({'pizza', 'momo', 'coke', 'nan'}), items_add=frozenset({'chowmine'}), confidence=1.0, lift=5.0)]),\n",
       " RelationRecord(items=frozenset({'5.0', '3', '2', '0', '4', '1'}), support=0.2, ordered_statistics=[OrderedStatistic(items_base=frozenset({'3', '2', '0', '4', '1'}), items_add=frozenset({'5.0'}), confidence=1.0, lift=5.0), OrderedStatistic(items_base=frozenset({'5.0', '3', '2', '4', '1'}), items_add=frozenset({'0'}), confidence=1.0, lift=5.0)]),\n",
       " RelationRecord(items=frozenset({'3', '2', '0', '4', '6.0', '1'}), support=0.2, ordered_statistics=[OrderedStatistic(items_base=frozenset({'3', '2', '0', '4', '1'}), items_add=frozenset({'6.0'}), confidence=1.0, lift=5.0), OrderedStatistic(items_base=frozenset({'3', '2', '4', '6.0', '1'}), items_add=frozenset({'0'}), confidence=1.0, lift=5.0)]),\n",
       " RelationRecord(items=frozenset({'5.0', '3', '2', '0', '6.0', '1'}), support=0.2, ordered_statistics=[OrderedStatistic(items_base=frozenset({'5.0', '3', '2', '0', '1'}), items_add=frozenset({'6.0'}), confidence=1.0, lift=5.0), OrderedStatistic(items_base=frozenset({'3', '2', '0', '6.0', '1'}), items_add=frozenset({'5.0'}), confidence=1.0, lift=5.0), OrderedStatistic(items_base=frozenset({'5.0', '3', '2', '6.0', '1'}), items_add=frozenset({'0'}), confidence=1.0, lift=5.0)]),\n",
       " RelationRecord(items=frozenset({'5.0', '2', '0', '4', '6.0', '1'}), support=0.2, ordered_statistics=[OrderedStatistic(items_base=frozenset({'5.0', '2', '0', '4', '1'}), items_add=frozenset({'6.0'}), confidence=1.0, lift=5.0), OrderedStatistic(items_base=frozenset({'2', '0', '4', '6.0', '1'}), items_add=frozenset({'5.0'}), confidence=1.0, lift=5.0), OrderedStatistic(items_base=frozenset({'5.0', '2', '4', '6.0', '1'}), items_add=frozenset({'0'}), confidence=1.0, lift=5.0)]),\n",
       " RelationRecord(items=frozenset({'5.0', '3', '0', '4', '6.0', '1'}), support=0.2, ordered_statistics=[OrderedStatistic(items_base=frozenset({'5.0', '3', '0', '4', '1'}), items_add=frozenset({'6.0'}), confidence=1.0, lift=5.0), OrderedStatistic(items_base=frozenset({'3', '0', '4', '6.0', '1'}), items_add=frozenset({'5.0'}), confidence=1.0, lift=5.0), OrderedStatistic(items_base=frozenset({'5.0', '3', '4', '6.0', '1'}), items_add=frozenset({'0'}), confidence=1.0, lift=5.0)]),\n",
       " RelationRecord(items=frozenset({'5.0', '3', '2', '0', '4', '6.0'}), support=0.2, ordered_statistics=[OrderedStatistic(items_base=frozenset({'5.0', '3', '2', '0', '4'}), items_add=frozenset({'6.0'}), confidence=1.0, lift=5.0), OrderedStatistic(items_base=frozenset({'3', '2', '0', '4', '6.0'}), items_add=frozenset({'5.0'}), confidence=1.0, lift=5.0), OrderedStatistic(items_base=frozenset({'5.0', '3', '2', '4', '6.0'}), items_add=frozenset({'0'}), confidence=1.0, lift=5.0)]),\n",
       " RelationRecord(items=frozenset({'5.0', '3', '2', '4', '6.0', '1'}), support=0.2, ordered_statistics=[OrderedStatistic(items_base=frozenset({'5.0', '3', '2', '4', '1'}), items_add=frozenset({'6.0'}), confidence=1.0, lift=5.0), OrderedStatistic(items_base=frozenset({'3', '2', '4', '6.0', '1'}), items_add=frozenset({'5.0'}), confidence=1.0, lift=5.0)]),\n",
       " RelationRecord(items=frozenset({'pizza', '3', 'momo', 'chowmine', 'coke', 'nan'}), support=0.2, ordered_statistics=[OrderedStatistic(items_base=frozenset({'pizza', '3', 'momo', 'coke', 'nan'}), items_add=frozenset({'chowmine'}), confidence=1.0, lift=5.0)]),\n",
       " RelationRecord(items=frozenset({'5.0', '3', '2', '0', '4', '6.0', '1'}), support=0.2, ordered_statistics=[OrderedStatistic(items_base=frozenset({'5.0', '3', '2', '0', '4', '1'}), items_add=frozenset({'6.0'}), confidence=1.0, lift=5.0), OrderedStatistic(items_base=frozenset({'3', '2', '0', '4', '6.0', '1'}), items_add=frozenset({'5.0'}), confidence=1.0, lift=5.0), OrderedStatistic(items_base=frozenset({'5.0', '3', '2', '4', '6.0', '1'}), items_add=frozenset({'0'}), confidence=1.0, lift=5.0)])]"
      ]
     },
     "execution_count": 18,
     "metadata": {},
     "output_type": "execute_result"
    }
   ],
   "source": [
    "association_results"
   ]
  },
  {
   "cell_type": "code",
   "execution_count": 19,
   "metadata": {},
   "outputs": [
    {
     "name": "stdout",
     "output_type": "stream",
     "text": [
      "125\n"
     ]
    }
   ],
   "source": [
    "print(len(association_results))"
   ]
  },
  {
   "cell_type": "code",
   "execution_count": 20,
   "metadata": {},
   "outputs": [
    {
     "data": {
      "text/plain": [
       "RelationRecord(items=frozenset({'5.0', '0'}), support=0.2, ordered_statistics=[OrderedStatistic(items_base=frozenset({'0'}), items_add=frozenset({'5.0'}), confidence=1.0, lift=5.0), OrderedStatistic(items_base=frozenset({'5.0'}), items_add=frozenset({'0'}), confidence=1.0, lift=5.0)])"
      ]
     },
     "execution_count": 20,
     "metadata": {},
     "output_type": "execute_result"
    }
   ],
   "source": [
    "association_results[0]"
   ]
  },
  {
   "cell_type": "code",
   "execution_count": null,
   "metadata": {},
   "outputs": [],
   "source": []
  }
 ],
 "metadata": {
  "kernelspec": {
   "display_name": "Python 3",
   "language": "python",
   "name": "python3"
  },
  "language_info": {
   "codemirror_mode": {
    "name": "ipython",
    "version": 3
   },
   "file_extension": ".py",
   "mimetype": "text/x-python",
   "name": "python",
   "nbconvert_exporter": "python",
   "pygments_lexer": "ipython3",
   "version": "3.6.5"
  }
 },
 "nbformat": 4,
 "nbformat_minor": 2
}
